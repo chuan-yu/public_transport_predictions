{
 "cells": [
  {
   "cell_type": "code",
   "execution_count": 2,
   "metadata": {
    "collapsed": true
   },
   "outputs": [],
   "source": [
    "import numpy as np\n",
    "import pandas as pd\n",
    "import xarray as xr\n",
    "import os"
   ]
  },
  {
   "cell_type": "code",
   "execution_count": 3,
   "metadata": {
    "collapsed": true
   },
   "outputs": [],
   "source": [
    "file_path=\"../data/RIDE_DATA_OCT_2016-Bus2-wo-CAN.csv\"\n",
    "df = pd.DataFrame.from_csv(file_path, index_col=None)\n",
    "df = df[df[\"Direction\"]==0]"
   ]
  },
  {
   "cell_type": "code",
   "execution_count": 4,
   "metadata": {},
   "outputs": [
    {
     "name": "stdout",
     "output_type": "stream",
     "text": [
      "['2016-10-01' '2016-10-02' '2016-10-03' '2016-10-04' '2016-10-05'\n",
      " '2016-10-06' '2016-10-07' '2016-10-08' '2016-10-09' '2016-10-10'\n",
      " '2016-10-11' '2016-10-12' '2016-10-13' '2016-10-14' '2016-10-15'\n",
      " '2016-10-16' '2016-10-17' '2016-10-18' '2016-10-19' '2016-10-20'\n",
      " '2016-10-21' '2016-10-22' '2016-10-23' '2016-10-24' '2016-10-25'\n",
      " '2016-10-26' '2016-10-27' '2016-10-28' '2016-10-29' '2016-10-30'\n",
      " '2016-10-31']\n",
      "['10589', '10017', '5013', '5023', '4222', '4142', '1012', '1113', '1121', '1211', '1311', '80011', '80031', '80051', '80071', '80091', '81011', '81031', '81051', '82011', '82032', '82061', '83011', '83031', '83062', '83081', '84011', '84021', '84031', '84041', '84051', '84061', '85091', '85051', '85061', '85081', '85071', '96071', '96081', '96091', '96041', '96051', '96061', '97011', '97031', '97041', '97051', '97201', '97061', '97071', '97081', '97091', '98061', '98071', '99011', '99021', '99031', '99041', '99139', '99009']\n"
     ]
    }
   ],
   "source": [
    "df['Ride_start_date'] = df['Ride_start_date'].values.astype('datetime64[D]')\n",
    "df['Boarding_stop_stn'] = df['Boarding_stop_stn'].astype(\"str\")\n",
    "df['Alighting_stop_stn'] = df['Alighting_stop_stn'].astype('str')\n",
    "dates = pd.Series.unique(df[\"Ride_start_date\"])\n",
    "dates = dates.astype('datetime64[D]')\n",
    "dates = np.sort(dates)\n",
    "print(dates)\n",
    "stops_raw = [\"10589\",\"10017\",\"05013\",\"05023\",\"04222\",\"04142\",\"01012\",\"01113\",\"01121\",\"01211\",\"01311\",\"80011\",\"80031\",\"80051\",\"80071\",\"80091\",\"81011\",\"81031\",\"81051\",\"82011\",\"82032\",\"82061\",\"83011\",\"83031\",\"83062\",\"83081\",\"84011\",\"84021\",\"84031\",\"84041\",\"84051\",\"84061\",\"85091\",\"85051\",\"85061\",\"85081\",\"85071\",\"96071\",\"96081\",\"96091\",\"96041\",\"96051\",\"96061\",\"97011\",\"97031\",\"97041\",\"97051\",\"97201\",\"97061\",\"97071\",\"97081\",\"97091\",\"98061\",\"98071\",\"99011\",\"99021\",\"99031\",\"99041\",\"99139\",\"99009\"]\n",
    "stops =[]\n",
    "for s in stops_raw:\n",
    "    char_list = list(s)\n",
    "    while char_list[0] == '0':\n",
    "        char_list.pop(0)\n",
    "        \n",
    "    code_modified = ''.join(char_list)\n",
    "    stops.append(code_modified)\n",
    "\n",
    "print(stops)"
   ]
  },
  {
   "cell_type": "code",
   "execution_count": 5,
   "metadata": {},
   "outputs": [
    {
     "name": "stdout",
     "output_type": "stream",
     "text": [
      "116\n"
     ]
    }
   ],
   "source": [
    "# runs = df[(df['Boarding_stop_stn']==\"1113\") & (df['Ride_start_date']==dates[0])]\n",
    "runs = df[df['Ride_start_date']==dates[0]]\n",
    "runs = runs[['Bus_Reg_Num', 'Bus_Trip_Num']].drop_duplicates()\n",
    "num_runs = runs.shape[0]\n",
    "print(num_runs)"
   ]
  },
  {
   "cell_type": "code",
   "execution_count": 6,
   "metadata": {},
   "outputs": [
    {
     "name": "stdout",
     "output_type": "stream",
     "text": [
      "84031\n",
      "110\n"
     ]
    }
   ],
   "source": [
    "stop_selected = \"\"\n",
    "date = dates[0]\n",
    "max_runs = 0\n",
    "for s in stops:\n",
    "    stop_runs = df[((df['Boarding_stop_stn']==s) | (df['Alighting_stop_stn']==s)) & (df['Ride_start_date']==date)]\n",
    "    stop_runs = stop_runs[['Bus_Reg_Num', 'Bus_Trip_Num']].drop_duplicates()\n",
    "    num_stop_runs = stop_runs.shape[0]\n",
    "    if num_stop_runs > max_runs:\n",
    "        max_runs = num_stop_runs\n",
    "        stop_selected = s\n",
    "    \n",
    "print(stop_selected)\n",
    "print(max_runs)\n"
   ]
  },
  {
   "cell_type": "code",
   "execution_count": 7,
   "metadata": {
    "collapsed": true
   },
   "outputs": [],
   "source": [
    "stop_max_runs = df[((df['Boarding_stop_stn']==stop_selected) | (df['Alighting_stop_stn']==stop_selected)) & (df['Ride_start_date']==date)]\n",
    "stop_max_runs = stop_max_runs[['Bus_Reg_Num', 'Bus_Trip_Num']].drop_duplicates()\n",
    "stop_runs_index = stop_max_runs.index"
   ]
  },
  {
   "cell_type": "code",
   "execution_count": 8,
   "metadata": {
    "collapsed": true
   },
   "outputs": [],
   "source": [
    "all_runs = df.loc[stop_runs_index]"
   ]
  },
  {
   "cell_type": "code",
   "execution_count": 9,
   "metadata": {
    "collapsed": true
   },
   "outputs": [],
   "source": [
    "all_runs['Time'] = np.where(all_runs['Boarding_stop_stn']==stop_selected, all_runs['Ride_start_time'], all_runs['Ride_end_time'])"
   ]
  },
  {
   "cell_type": "code",
   "execution_count": 10,
   "metadata": {
    "collapsed": true
   },
   "outputs": [],
   "source": [
    "all_runs.sort_values(by='Time', inplace=True)"
   ]
  },
  {
   "cell_type": "code",
   "execution_count": null,
   "metadata": {
    "collapsed": true
   },
   "outputs": [],
   "source": [
    "runs_array = all_runs[['Time', 'Bus_Reg_Num', 'Bus_Trip_Num']].to_xarray()"
   ]
  },
  {
   "cell_type": "code",
   "execution_count": 14,
   "metadata": {},
   "outputs": [],
   "source": [
    "df_day = df[df['Ride_start_date']==date]\n",
    "records = pd.merge(df_day, all_runs, how=\"inner\", on=['Bus_Reg_Num', 'Bus_Trip_Num'])"
   ]
  },
  {
   "cell_type": "code",
   "execution_count": null,
   "metadata": {},
   "outputs": [
    {
     "data": {
      "text/plain": [
       "Bus_Reg_Num  Bus_Trip_Num  Boarding_stop_stn_x\n",
       "2            1             10017                   5\n",
       "                           1012                    1\n",
       "                           1113                    7\n",
       "                           1121                    4\n",
       "                           1211                    3\n",
       "                           1311                   10\n",
       "                           4142                    2\n",
       "                           4222                    3\n",
       "                           5013                   26\n",
       "                           80011                   3\n",
       "                           80031                   1\n",
       "                           80051                   2\n",
       "                           80071                   1\n",
       "                           80091                   6\n",
       "                           81011                   2\n",
       "                           81031                   8\n",
       "                           81051                   4\n",
       "                           82011                   2\n",
       "                           82061                   5\n",
       "                           83062                   8\n",
       "                           84011                   4\n",
       "                           84021                   7\n",
       "                           84031                   9\n",
       "                           84041                   4\n",
       "                           84051                   5\n",
       "                           84061                   3\n",
       "                           85071                   1\n",
       "                           85091                   1\n",
       "                           96051                   2\n",
       "                           96061                   2\n",
       "                                                  ..\n",
       "5140         6             84051                   1\n",
       "                           84061                   3\n",
       "                           85071                   4\n",
       "                           85081                   1\n",
       "                           85091                   4\n",
       "                           96041                   2\n",
       "                           96051                   1\n",
       "                           96061                   6\n",
       "                           97011                   1\n",
       "                           97041                   3\n",
       "                           97051                   2\n",
       "             8             1113                   12\n",
       "                           1121                    7\n",
       "                           1211                    1\n",
       "                           4142                    3\n",
       "                           4222                   15\n",
       "                           5013                    1\n",
       "                           80011                   1\n",
       "                           80031                   1\n",
       "                           80051                   4\n",
       "                           80071                   2\n",
       "                           81011                   2\n",
       "                           82032                   3\n",
       "                           83062                   5\n",
       "                           84011                   1\n",
       "                           84021                   1\n",
       "                           84031                  14\n",
       "                           85061                   3\n",
       "                           85091                   2\n",
       "                           96091                   1\n",
       "Length: 2943, dtype: int64"
      ]
     },
     "execution_count": 19,
     "metadata": {},
     "output_type": "execute_result"
    }
   ],
   "source": [
    "records.groupby(['Bus_Reg_Num', 'Bus_Trip_Num', 'Boarding_stop_stn_x']).size()"
   ]
  }
 ],
 "metadata": {
  "kernelspec": {
   "display_name": "Python 3",
   "language": "python",
   "name": "python3"
  },
  "language_info": {
   "codemirror_mode": {
    "name": "ipython",
    "version": 3
   },
   "file_extension": ".py",
   "mimetype": "text/x-python",
   "name": "python",
   "nbconvert_exporter": "python",
   "pygments_lexer": "ipython3",
   "version": "3.6.3"
  }
 },
 "nbformat": 4,
 "nbformat_minor": 1
}
